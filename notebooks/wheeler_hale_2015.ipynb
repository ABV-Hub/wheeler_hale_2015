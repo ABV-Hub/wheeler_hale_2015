{
 "cells": [
  {
   "cell_type": "markdown",
   "metadata": {},
   "source": [
    "# Reproducing Geophysics: Wheeler and Hale (2015)'s well log alignment using dynamic warping\n",
    "*by Alan Richardson (Ausar Geophysical)*\n",
    "\n",
    "## Introduction to the series\n",
    "\n",
    "This is the first instalment of my *Reproducing Geophysics* series, where I attempt to implement published exploration geophysics algorithms and reproduce results.\n",
    "\n",
    "Writing about someone else's baby is obviously a risky business. Rather than implementing algorithms exactly as described in the original publication, my goal in this series is to write the simplest code I can that still achieves what I think will be approximately the same effect. It is likely that I will also cut some corners when creating results. The original authors probably laboured for months to get the best results possible, while I am more interested in a quick peek. This means that my results will almost never be as good as those in the original papers. So, if I get bad results, it just means that the original authors worked harder than I did, and we should applaud them for their dedication.\n",
    "\n",
    "My plan is to release a Python package with each instalment. This implements the chosen method, so you can install it and apply it to your own data. The associated Jupyter Notebook (like the one you are reading) will import this package, apply it to some data, and then visualise the output.\n",
    "\n",
    "## Introduction to Wheeler and Hale (2015)\n",
    "\n",
    "* [Research Report](http://cwp.mines.edu/Documents/cwpreports/cwp814.pdf)\n",
    "* [MS Thesis](http://cwp.mines.edu/Documents/cwpreports/cwp826.pdf)\n",
    "* [Youtube Video 1](https://www.youtube.com/watch?v=JIDIV1uDLXY)\n",
    "* [Youtube Video 2](https://www.youtube.com/watch?v=vUsvKvGnXvE)\n",
    "\n",
    "The Research Report is a nice introduction, but omits the important details of how to solve the system of equations, which you need to go to the MS Thesis for.\n",
    "\n",
    "The method I have chosen to have a look at this time is designed to align well logs. To achieve this, it uses the concept of *Relative Geologic Time* (RGT). This indicates the order in which geologic layers were deposited (smaller values were deposited after larger ones). The method claims to assign an RGT value to each depth in the input well logs. Although it may be helpful to think about the output of the method as RGT, it can also be misleading (see next paragraph). What the method really does is assign a value to each depth in each log such that, if logs from two wells are plotted using this new value instead of depth on the y-axis, they should line-up.\n",
    "\n",
    "RGT will probably not increase linearly along a log. If a portion of geologic time is represented on log `A` that is missing from log `B`, then there should be a jump in log `B`'s RGT at the unconformity. The method's output should do this too, so this matches well with calling the output RGT. This breaks down when the geology is more complicated than a simple case of newer deposits on top of older ones, as the output of the method is strictly increasing. As long as someone later in the processing flow doesn't mistakenly think the value is actually Relative Geologic Time, it shouldn't be a problem. It might be safer to call it something like Alignment Index, though. Despite these reservations, I will continue to refer to the output as RGT to be consistent with the original publications.\n",
    "\n",
    "### Dynamic warping\n",
    "\n",
    "Now that we have that quibble out of the way, let's see how the method actually produces the RGT values.\n",
    "\n",
    "The first step is to use dynamic warping on every possible unordered pairing of the logs. If you have three logs, `A`, `B`, and `C`, there will be three such pairings: `(A, B)`, `(A, C)`, and `(B, C)`. By *unordered* I mean that `(A, B)` and `(B, A)` are the same.\n",
    "\n",
    "Dynamic warping, usually called dynamic time warping (DTW) in the signal processing community, determines the way in which two signals need to be stretched and shifted for them to align. Given two signals, `A` and `B`, it will produce a list of index pairs `(i, j)`, such that `A[i] ~ B[j]`. Let's look at an example.\n",
    "\n",
    "Here are our two signals (our well logs):\n",
    "\n",
    "```\n",
    "A = 12, 13, 14, 15, 9, 10\n",
    "B = 10, 11, 12, 13, 14, 15, 12, 10, 8, 9\n",
    "```\n",
    "\n",
    "Applying dynamic warping produces a list of index pairs:\n",
    "\n",
    "```\n",
    "(i, j) = (1, 3), (2, 4), (3, 5), (4, 6), (5, 9)\n",
    "```\n",
    "\n",
    "This tells us that index `1` of log `A` (the first element in `A`, which is `12` in this case) matches with index `3` of log `B` (the third element of `B`, which is also `12`). It also says that index `2` of `A` matches with index `4` of `B`, and so on.\n",
    "\n",
    "This is relevant to us, because when an element in one log matches with an element in another log, those two elements should have the same RGT.\n",
    "\n",
    "### Solving for RGT\n",
    "\n",
    "If we just have two logs, then the job is trivial: apply dynamic warping and assign RGT values so that matching elements have the same value. For our example above, one possible assignment of RGT would be:\n",
    "\n",
    "```\n",
    "RGT[A] = 3, 4, 5, 6, 9, 10\n",
    "RGT[B] = 1, 2, 3, 4, 5, 6, 7, 8, 9\n",
    "```\n",
    "\n",
    "Things get complicated when there are more than two logs. Dynamic warping is not infallible, especially on noisy log data. It is likely that the output of dynamic warping on pairs of logs will not exhibit transitivity. Finding that index `i` of log `A` matches index `j` of log `B`, and that index `j` of log `B` matches index `k` of log `C`, does not guarantee that it will find that index `k` of log `C` matches index `i` of log `A`.\n",
    "\n",
    "This is where least squares solvers come to the rescue. Once we express all of the dynamic warping relations in a system of equations, we can use a solver to find the best fit solution.\n",
    "\n",
    "### The details\n",
    "\n",
    "The path gets a bit laborious here, so if you're only a casual visitor you'll probably want to skip to the next section.\n",
    "\n",
    "We left-off in the last section knowing which samples should have the same RGT, and we decided that we would use a least squares solver to apply these relations and obtain the RGT for each sample. But if we try to solve a system with lots of equations similar to `RGT[A][3] = RGT[B][1]`, then we are not going to get a satisfactory result. The solver will most likely set every RGT to zero, which is the easiest way of satisfying every one of the equations. We would like something a bit more interesting.\n",
    "\n",
    "The approach described in the MS Thesis gets rather complicated here. There is talk of a *recursive exponential filter*. That doesn't sound like *quick peek* territory to me, so this is one of those instances where I am going to go my own way.\n",
    "\n",
    "What I'm going to do is impose a rule: RGT is strictly increasing, so no two depths in a log have the same RGT.\n",
    "\n",
    "To achieve this, I am not going to solve for RGT directly, but instead solve for the change in RGT from the previous depth (the depth derivative of RGT, if you prefer to think of it that way). The advantage of this is that I can use a solver constrained to only find positive solutions to easily impose my rule.\n",
    "\n",
    "If depth `3` in log `A` is supposed to have the same RGT as depth `2` in log `B`, the row corresponding to this in the system of equations that I solve would be:\n",
    "\n",
    "`dRGT[A][1] + dRGT[A][2] + dRGT[A][3] = dRGT[B][1] + dRGT[B][2]`,\n",
    "\n",
    "where `dRGT[A][3]` is the change in RGT in log `A` between samples `2` and `3`.\n",
    "\n",
    "The change in RGT of the first sample in a log is the same as the RGT of that sample. So `dRGT[A][1] == RGT[A][1]`.\n",
    "\n",
    "The above equation just says that `RGT[A][3] = RGT[B][2]`, but does this using dRGT so that we can impose the *strictly increasing* constraint (by requiring that `dRGT > 0`).\n",
    "\n",
    "Python's SciPy library has a bounded least squares solver ([`lsq_linear`](https://docs.scipy.org/doc/scipy/reference/generated/scipy.optimize.lsq_linear.html)), so solving the system this way is easy. Once we solve for `dRGT`, we can get `RGT` by summing the `dRGT` values. For example, `RGT[A][3] = dRGT[A][1] + dRGT[A][2] + dRGT[A][3]`.\n",
    "\n",
    "### Alan's approximations\n",
    "\n",
    "This is the section where I confess all of my corner cutting.\n",
    "\n",
    "The biggest is my use of an alternative strategy to solve for `RGT`, as described in the previous section. I'm not sure how different this is to the method described in the original publication. My approach does seem to take a surprisingly long time to run (a few minutes to produce the results I show below, even though I'm only aligning six logs). Perhaps the original method is quicker.\n",
    "\n",
    "The authors describe what seems to be a new approach to dynamic warping, involving a rotated coordinate system. This apparently overcomes some difficulties with previous methods. It would have been interesting to try this out, but I suspect developing a robust implementation with good performance is not trivial, so I wasn't able to overcome the temptation to use one of the existing Python libraries for dynamic warping instead (I used [`fastdtw`](https://github.com/slaypni/fastdtw), but [`dtw`](https://github.com/pierre-rouanet/dtw) also looks good).\n",
    "\n",
    "You may wonder if I can still say I'm applying the authors' method after these modifications. That may be a valid question, but I'm actually going to deviate in another way as well. I decided to not weight the entries in the system of equations by the distance between the wells and the number of points they have in common. The purpose of this weighting is to reduce the effect of faraway logs that don't match well when determining a log's RGT. The method seems to work well for me even without this. I also suspect that in practice it would be better (faster, at least) to only consider nearby wells when performing dynamic warping, rather than including all of the other wells and then weighting the near ones more heavily.\n",
    "\n",
    "Finally, to reduce the computational cost of the method, I decimated the input logs.\n",
    "\n",
    "## Results\n",
    "\n",
    "My goal is to reproduce Figure 8a from the research report, which shows six aligned velocity logs from [the Teapot Dome dataset](http://wiki.seg.org/wiki/Teapot_dome_3D_survey). The authors say that they are the deepest velocity logs. I found the thirteen deepest logs in the dataset, and six of these contained a `DT` log. The `DT` property measures slowness in microseconds per foot, which can easily be converted into velocity in meters per second.\n",
    "\n",
    "The Python package that I created to implement the algorithm is called [`wheeler_hale_2015`](https://github.com/ar4/wheeler_hale_2015). You can use `pip` to install it."
   ]
  },
  {
   "cell_type": "code",
   "execution_count": 26,
   "metadata": {
    "collapsed": true
   },
   "outputs": [
    {
     "name": "stdout",
     "output_type": "stream",
     "text": [
      "Requirement already up-to-date: wheeler_hale_2015 in /home/nbcommon/anaconda3_410/lib/python3.5/site-packages\n",
      "Requirement already up-to-date: lasio in /home/nbcommon/anaconda3_410/lib/python3.5/site-packages (from wheeler_hale_2015)\n",
      "Requirement already up-to-date: scipy in /home/nbcommon/anaconda3_410/lib/python3.5/site-packages (from wheeler_hale_2015)\n",
      "Requirement already up-to-date: fastdtw in /home/nbcommon/anaconda3_410/lib/python3.5/site-packages (from wheeler_hale_2015)\n",
      "Requirement already up-to-date: pandas in /home/nbcommon/anaconda3_410/lib/python3.5/site-packages (from wheeler_hale_2015)\n",
      "Requirement already up-to-date: numpy in /home/nbcommon/anaconda3_410/lib/python3.5/site-packages (from wheeler_hale_2015)\n",
      "Requirement already up-to-date: xlwt in /home/nbcommon/anaconda3_410/lib/python3.5/site-packages (from lasio->wheeler_hale_2015)\n",
      "Requirement already up-to-date: ordereddict in /home/nbcommon/anaconda3_410/lib/python3.5/site-packages (from lasio->wheeler_hale_2015)\n",
      "Requirement already up-to-date: namedlist in /home/nbcommon/anaconda3_410/lib/python3.5/site-packages (from lasio->wheeler_hale_2015)\n",
      "Requirement already up-to-date: pytz>=2011k in /home/nbcommon/anaconda3_410/lib/python3.5/site-packages (from pandas->wheeler_hale_2015)\n",
      "Requirement already up-to-date: python-dateutil>=2 in /home/nbcommon/anaconda3_410/lib/python3.5/site-packages (from pandas->wheeler_hale_2015)\n",
      "Requirement already up-to-date: six>=1.5 in /home/nbcommon/anaconda3_410/lib/python3.5/site-packages (from python-dateutil>=2->pandas->wheeler_hale_2015)\n",
      "\u001b[33mYou are using pip version 8.1.2, however version 9.0.1 is available.\n",
      "You should consider upgrading via the 'pip install --upgrade pip' command.\u001b[0m\n"
     ]
    }
   ],
   "source": [
    "!pip install --upgrade wheeler_hale_2015"
   ]
  },
  {
   "cell_type": "code",
   "execution_count": 27,
   "metadata": {
    "collapsed": false
   },
   "outputs": [],
   "source": [
    "import os\n",
    "import numpy as np\n",
    "from matplotlib import pyplot as plt\n",
    "%matplotlib inline\n",
    "\n",
    "from wheeler_hale_2015.wheeler_hale_2015 import load_logs, prepare_logs, get_rgt"
   ]
  },
  {
   "cell_type": "markdown",
   "metadata": {},
   "source": [
    "I put the thirteen deepest logs that I found in the Teapot Dome dataset into [a zip file](teapot_logs.zip)."
   ]
  },
  {
   "cell_type": "code",
   "execution_count": 28,
   "metadata": {
    "collapsed": false
   },
   "outputs": [
    {
     "name": "stdout",
     "output_type": "stream",
     "text": [
      "Archive:  teapot_logs.zip\n",
      "  inflating: logs/49025109170000_13344_00005H309034.LAS  \n",
      "  inflating: logs/49025111230000_13344_00003H308968.LAS  \n",
      "  inflating: logs/49025063380000_292976.LAS  \n",
      "  inflating: logs/49025109020000_13345_00011H307856.LAS  \n",
      "  inflating: logs/49025109200000_281757.LAS  \n",
      "  inflating: logs/49025227600000_293443.LAS  \n",
      "  inflating: logs/49025100170000_13344_00007H309370.LAS  \n",
      "  inflating: logs/49025230540000_281708.LAS  \n",
      "  inflating: logs/49025109200000_13345_00003H302355.LAS  \n",
      "  inflating: logs/49025230310000_283712.LAS  \n",
      "  inflating: logs/49025100210000_13344_00006H309081.LAS  \n",
      "  inflating: logs/49025230480000_290942.LAS  \n",
      "  inflating: logs/49025109160000_13345_00013H308156.LAS  \n"
     ]
    }
   ],
   "source": [
    "!unzip -o teapot_logs.zip"
   ]
  },
  {
   "cell_type": "markdown",
   "metadata": {},
   "source": [
    "We will now load these LAS files into the `loaded_logs` list, with each one stored as a pandas DataFrame."
   ]
  },
  {
   "cell_type": "code",
   "execution_count": 29,
   "metadata": {
    "collapsed": false
   },
   "outputs": [],
   "source": [
    "log_files = os.listdir('logs')"
   ]
  },
  {
   "cell_type": "code",
   "execution_count": 30,
   "metadata": {
    "collapsed": false
   },
   "outputs": [],
   "source": [
    "log_paths = []\n",
    "for log_file in log_files:\n",
    "    log_paths.append(os.path.join('logs',log_file))"
   ]
  },
  {
   "cell_type": "code",
   "execution_count": 31,
   "metadata": {
    "collapsed": false
   },
   "outputs": [],
   "source": [
    "loaded_logs = load_logs(log_paths)"
   ]
  },
  {
   "cell_type": "markdown",
   "metadata": {},
   "source": [
    "I only want the logs that contain slowness measurements `DT`. I copy these into new lists called `orig_logs` and `logs`. You'll see why I need two copies later."
   ]
  },
  {
   "cell_type": "code",
   "execution_count": 32,
   "metadata": {
    "collapsed": true
   },
   "outputs": [],
   "source": [
    "keep_idxs = []\n",
    "for i, log in enumerate(loaded_logs):\n",
    "    if 'DT' in log.columns:\n",
    "        keep_idxs.append(i)\n",
    "orig_logs = [log.copy() for i, log in enumerate(loaded_logs) if i in keep_idxs]\n",
    "logs = [log.copy() for log in orig_logs]"
   ]
  },
  {
   "cell_type": "markdown",
   "metadata": {},
   "source": [
    "The `prepare_logs` function (from my `wheeler_hale_2015` package) scales each log property to have zero median and unit interquartile range. This is important so that each log property influences the dynamic warping equally. If one of the log properties, say slowness, had huge values compared to all of the other properties, then the dynamic warping output would be determined only by the slowness values. The function also fills missing data with random values that also have zero median and unit interquartile range."
   ]
  },
  {
   "cell_type": "code",
   "execution_count": 33,
   "metadata": {
    "collapsed": true
   },
   "outputs": [],
   "source": [
    "prepare_logs(logs)"
   ]
  },
  {
   "cell_type": "markdown",
   "metadata": {},
   "source": [
    "The logs are quite large, with around ten thousand depth samples in each. To make them better suited to a *quick peek*, I will only use every tenth sample."
   ]
  },
  {
   "cell_type": "code",
   "execution_count": 34,
   "metadata": {
    "collapsed": false
   },
   "outputs": [],
   "source": [
    "def decimate_logs(logs, factor=10):\n",
    "    decimated_logs = []\n",
    "    for i, log in enumerate(logs):\n",
    "        decimated_logs.append(log.copy()[::factor])\n",
    "    return decimated_logs"
   ]
  },
  {
   "cell_type": "code",
   "execution_count": 35,
   "metadata": {
    "collapsed": true
   },
   "outputs": [],
   "source": [
    "decimated_logs = decimate_logs(logs)\n",
    "decimated_orig_logs = decimate_logs(orig_logs)"
   ]
  },
  {
   "cell_type": "markdown",
   "metadata": {},
   "source": [
    "The real work gets done in the `get_rgt` function, which runs the dynamic warping, solves the system of equations, and puts the results into an RGT column of the logs.\n",
    "\n",
    "I supplied a few optional parameters to the function. The two multipliers are used when deciding how much memory to preallocate. If you set them too low, you will get an error, and if you set them too high you will run out of memory. I increased them until I wasn't getting errors. The default maximum number of iterations in the least squares solver is 100. I tried that, and also tried increasing it a bit, to 140. The extra 40 didn't seem to change much. The `radius` parameter gets passed to the fastDTW package. Using a bigger value may give better results, but uses more memory."
   ]
  },
  {
   "cell_type": "code",
   "execution_count": 36,
   "metadata": {
    "collapsed": false
   },
   "outputs": [
    {
     "name": "stdout",
     "output_type": "stream",
     "text": [
      "   Iteration        Cost      Cost reduction    Step norm     Optimality   \n",
      "       0         1.0175e+08                                    7.36e+05    \n",
      "       1         2.7550e+07      7.42e+07       1.10e+01       9.26e+04    \n",
      "       2         2.6471e+07      1.08e+06       7.65e-01       2.45e+04    \n",
      "       3         2.4532e+07      1.94e+06       3.16e+00       1.60e+04    \n",
      "       4         2.1975e+07      2.56e+06       5.64e+00       1.11e+04    \n",
      "       5         2.1151e+07      8.25e+05       1.97e+00       1.02e+04    \n",
      "       6         1.9935e+07      1.22e+06       3.11e+00       9.39e+03    \n",
      "       7         1.9554e+07      3.81e+05       9.86e-01       8.56e+03    \n",
      "       8         1.9120e+07      4.34e+05       1.15e+00       8.12e+03    \n",
      "       9         1.8762e+07      3.59e+05       9.74e-01       7.60e+03    \n",
      "      10         1.8372e+07      3.90e+05       1.08e+00       7.37e+03    \n",
      "      11         1.8044e+07      3.27e+05       9.19e-01       6.79e+03    \n",
      "      12         1.7692e+07      3.52e+05       1.00e+00       6.73e+03    \n",
      "      13         1.7389e+07      3.03e+05       8.79e-01       6.16e+03    \n",
      "      14         1.7069e+07      3.20e+05       9.41e-01       6.17e+03    \n",
      "      15         1.6786e+07      2.83e+05       8.45e-01       5.61e+03    \n",
      "      16         1.6494e+07      2.92e+05       8.84e-01       5.67e+03    \n",
      "      17         1.6222e+07      2.71e+05       8.32e-01       5.13e+03    \n",
      "      18         1.5956e+07      2.66e+05       8.27e-01       5.22e+03    \n",
      "      19         1.5688e+07      2.68e+05       8.46e-01       4.73e+03    \n",
      "      20         1.5447e+07      2.41e+05       7.71e-01       4.81e+03    \n",
      "      21         1.5173e+07      2.73e+05       8.85e-01       4.42e+03    \n",
      "      22         1.4956e+07      2.18e+05       7.15e-01       4.48e+03    \n",
      "      23         1.4666e+07      2.89e+05       9.63e-01       4.16e+03    \n",
      "      24         1.4469e+07      1.97e+05       6.63e-01       4.18e+03    \n",
      "      25         1.4151e+07      3.18e+05       1.09e+00       3.96e+03    \n",
      "      26         1.3973e+07      1.78e+05       6.18e-01       3.88e+03    \n",
      "      27         1.3625e+07      3.49e+05       1.23e+00       3.76e+03    \n",
      "      28         1.3460e+07      1.64e+05       5.89e-01       3.59e+03    \n",
      "      29         1.3076e+07      3.84e+05       1.41e+00       3.57e+03    \n",
      "      30         1.3058e+07      1.77e+04       6.74e-02       2.94e+03    \n",
      "      31         1.1546e+07      1.51e+06       5.84e+00       4.14e+03    \n",
      "      32         1.1530e+07      1.59e+04       7.71e-02       2.21e+03    \n",
      "      33         1.1176e+07      3.54e+05       1.53e+00       2.50e+03    \n",
      "      34         1.1161e+07      1.55e+04       7.08e-02       2.07e+03    \n",
      "      35         1.0853e+07      3.08e+05       1.39e+00       2.18e+03    \n",
      "      36         1.0750e+07      1.03e+05       4.92e-01       1.88e+03    \n",
      "      37         1.0475e+07      2.75e+05       1.30e+00       2.00e+03    \n",
      "      38         1.0395e+07      7.96e+04       3.95e-01       1.77e+03    \n",
      "      39         1.0243e+07      1.53e+05       7.47e-01       1.99e+03    \n",
      "      40         1.0175e+07      6.72e+04       3.37e-01       1.57e+03    \n",
      "      41         1.0073e+07      1.02e+05       5.14e-01       1.77e+03    \n",
      "      42         9.9944e+06      7.89e+04       4.06e-01       1.61e+03    \n",
      "      43         9.9094e+06      8.50e+04       4.40e-01       1.74e+03    \n",
      "      44         9.8261e+06      8.33e+04       4.39e-01       1.46e+03    \n",
      "      45         9.7610e+06      6.51e+04       3.45e-01       1.58e+03    \n",
      "      46         9.6616e+06      9.94e+04       5.37e-01       1.54e+03    \n",
      "      47         9.6074e+06      5.42e+04       2.96e-01       1.56e+03    \n",
      "      48         9.5071e+06      1.00e+05       5.57e-01       1.39e+03    \n",
      "      49         9.4997e+06      7.47e+03       4.28e-02       1.23e+03    \n",
      "      50         8.9420e+06      5.58e+05       3.20e+00       2.58e+03    \n",
      "      51         8.9356e+06      6.36e+03       4.90e-02       1.13e+03    \n",
      "      52         8.7852e+06      1.50e+05       9.81e-01       1.16e+03    \n",
      "      53         8.7796e+06      5.60e+03       3.94e-02       1.01e+03    \n",
      "      54         8.6408e+06      1.39e+05       9.48e-01       1.75e+03    \n",
      "      55         8.6349e+06      5.91e+03       4.50e-02       8.54e+02    \n",
      "      56         8.5433e+06      9.16e+04       6.55e-01       1.27e+03    \n",
      "      57         8.5003e+06      4.30e+04       3.27e-01       8.59e+02    \n",
      "      58         8.4127e+06      8.76e+04       6.56e-01       1.03e+03    \n",
      "      59         8.3766e+06      3.61e+04       2.85e-01       9.57e+02    \n",
      "      60         8.3028e+06      7.39e+04       5.77e-01       9.31e+02    \n",
      "      61         8.2973e+06      5.46e+03       4.47e-02       9.75e+02    \n",
      "      62         8.2408e+06      5.65e+04       4.59e-01       7.79e+02    \n",
      "      63         8.2027e+06      3.81e+04       3.17e-01       9.85e+02    \n",
      "      64         8.1582e+06      4.45e+04       3.74e-01       7.51e+02    \n",
      "      65         8.1299e+06      2.84e+04       2.42e-01       1.04e+03    \n",
      "      66         8.1001e+06      2.98e+04       2.57e-01       7.05e+02    \n",
      "      67         8.0795e+06      2.06e+04       1.79e-01       1.01e+03    \n",
      "      68         8.0506e+06      2.88e+04       2.55e-01       6.93e+02    \n",
      "      69         8.0467e+06      3.93e+03       3.51e-02       8.10e+02    \n",
      "      70         7.7381e+06      3.09e+05       2.80e+00       1.06e+03    \n",
      "      71         7.7357e+06      2.35e+03       2.80e-02       7.46e+02    \n",
      "      72         7.6426e+06      9.32e+04       1.04e+00       7.37e+02    \n",
      "      73         7.6404e+06      2.19e+03       2.68e-02       6.84e+02    \n",
      "      74         7.6187e+06      2.17e+04       2.59e-01       7.70e+02    \n",
      "      75         7.6160e+06      2.62e+03       3.25e-02       6.36e+02    \n",
      "      76         7.4857e+06      1.30e+05       1.59e+00       9.51e+02    \n",
      "      77         7.4791e+06      6.60e+03       1.00e-01       5.82e+02    \n",
      "      78         7.4770e+06      2.09e+03       2.88e-02       6.72e+02    \n",
      "      79         7.4474e+06      2.97e+04       4.10e-01       6.02e+02    \n",
      "      80         7.4331e+06      1.42e+04       2.00e-01       6.03e+02    \n",
      "      81         7.4162e+06      1.70e+04       2.41e-01       6.45e+02    \n",
      "      82         7.4142e+06      2.01e+03       2.96e-02       5.56e+02    \n",
      "      83         7.3378e+06      7.64e+04       1.11e+00       7.27e+02    \n",
      "      84         7.3318e+06      6.00e+03       1.02e-01       5.61e+02    \n",
      "      85         7.3301e+06      1.73e+03       2.69e-02       5.68e+02    \n",
      "      86         7.2620e+06      6.81e+04       1.08e+00       7.31e+02    \n",
      "      87         7.2596e+06      2.36e+03       4.12e-02       6.32e+02    \n",
      "      88         7.2580e+06      1.65e+03       2.80e-02       5.03e+02    \n",
      "      89         7.2561e+06      1.88e+03       3.16e-02       6.26e+02    \n",
      "      90         7.2545e+06      1.67e+03       2.83e-02       5.29e+02    \n",
      "      91         7.2316e+06      2.29e+04       3.89e-01       6.61e+02    \n",
      "      92         7.2294e+06      2.22e+03       4.02e-02       5.61e+02    \n",
      "      93         7.2280e+06      1.35e+03       2.37e-02       6.20e+02    \n",
      "      94         7.2087e+06      1.93e+04       3.42e-01       5.17e+02    \n",
      "      95         7.2066e+06      2.13e+03       3.79e-02       6.56e+02    \n",
      "      96         7.2053e+06      1.29e+03       2.32e-02       5.44e+02    \n",
      "      97         7.1848e+06      2.05e+04       3.68e-01       6.55e+02    \n",
      "      98         7.1825e+06      2.28e+03       4.33e-02       5.21e+02    \n",
      "      99         7.1814e+06      1.13e+03       2.09e-02       6.14e+02    \n",
      "      100        7.1624e+06      1.90e+04       3.55e-01       5.27e+02    \n",
      "      101        7.1603e+06      2.05e+03       3.85e-02       6.71e+02    \n",
      "      102        7.1592e+06      1.15e+03       2.18e-02       5.51e+02    \n",
      "      103        7.1414e+06      1.78e+04       3.37e-01       6.51e+02    \n",
      "      104        7.1394e+06      1.96e+03       3.92e-02       5.17e+02    \n",
      "      105        7.1384e+06      1.04e+03       2.02e-02       6.15e+02    \n",
      "      106        7.1210e+06      1.74e+04       3.41e-01       5.37e+02    \n",
      "      107        7.1190e+06      2.01e+03       3.96e-02       6.79e+02    \n",
      "      108        7.1180e+06      1.02e+03       2.04e-02       5.59e+02    \n",
      "      109        7.1010e+06      1.70e+04       3.38e-01       6.55e+02    \n",
      "      110        7.0994e+06      1.65e+03       3.46e-02       5.32e+02    \n",
      "      111        7.0984e+06      9.73e+02       2.00e-02       6.18e+02    \n",
      "      112        7.0840e+06      1.44e+04       2.99e-01       5.44e+02    \n",
      "      113        7.0822e+06      1.79e+03       3.70e-02       6.76e+02    \n",
      "      114        7.0812e+06      9.63e+02       2.01e-02       5.63e+02    \n",
      "      115        7.0645e+06      1.67e+04       3.49e-01       6.60e+02    \n",
      "      116        7.0632e+06      1.30e+03       2.86e-02       5.47e+02    \n",
      "      117        7.0622e+06      9.76e+02       2.10e-02       6.22e+02    \n",
      "      118        7.0505e+06      1.18e+04       2.55e-01       5.44e+02    \n",
      "      119        7.0490e+06      1.45e+03       3.13e-02       6.65e+02    \n",
      "      120        7.0481e+06      9.72e+02       2.12e-02       5.61e+02    \n",
      "      121        7.0319e+06      1.61e+04       3.51e-01       6.65e+02    \n",
      "      122        7.0310e+06      9.91e+02       2.29e-02       5.63e+02    \n",
      "      123        7.0299e+06      1.04e+03       2.35e-02       6.24e+02    \n",
      "      124        7.0289e+06      9.81e+02       2.23e-02       5.85e+02    \n",
      "      125        7.0133e+06      1.57e+04       3.55e-01       6.44e+02    \n",
      "      126        7.0113e+06      1.91e+03       4.38e-02       4.99e+02    \n",
      "      127        7.0107e+06      6.95e+02       1.58e-02       6.14e+02    \n",
      "      128        6.9966e+06      1.41e+04       3.23e-01       5.61e+02    \n",
      "      129        6.9952e+06      1.33e+03       3.18e-02       6.53e+02    \n",
      "      130        6.9945e+06      7.67e+02       1.84e-02       5.76e+02    \n",
      "      131        6.9838e+06      1.07e+04       2.55e-01       6.42e+02    \n",
      "      132        6.9824e+06      1.33e+03       3.16e-02       5.36e+02    \n",
      "      133        6.9817e+06      7.16e+02       1.70e-02       6.15e+02    \n",
      "      134        6.9685e+06      1.33e+04       3.18e-01       5.40e+02    \n",
      "      135        6.9674e+06      1.04e+03       2.58e-02       6.50e+02    \n",
      "      136        6.9666e+06      8.11e+02       2.03e-02       5.64e+02    \n",
      "      137        6.9657e+06      9.50e+02       2.34e-02       6.22e+02    \n",
      "      138        6.9648e+06      8.23e+02       2.04e-02       5.79e+02    \n",
      "      139        6.9427e+06      2.22e+04       5.50e-01       6.77e+02    \n",
      "The maximum number of iterations is exceeded.\n",
      "Number of iterations 140, initial cost 1.0175e+08, final cost 6.9417e+06, first-order optimality 6.77e+02.\n"
     ]
    }
   ],
   "source": [
    "get_rgt(decimated_logs, path_multiplier=1.7, row_multiplier=1, its=140, radius=100)"
   ]
  },
  {
   "cell_type": "markdown",
   "metadata": {},
   "source": [
    "I want to plot the logs side-by-side for comparison. I wrote a somewhat large function to do this in a pretty way. There is no need to read it."
   ]
  },
  {
   "cell_type": "code",
   "execution_count": 37,
   "metadata": {
    "collapsed": true
   },
   "outputs": [],
   "source": [
    "import scipy.interpolate\n",
    "def plot_logs(logs, vfield, yfield=None, title=None):\n",
    "    n_logs = len(logs)\n",
    "    fig, ax = plt.subplots(nrows=1, ncols=n_logs, figsize=(12, 9), sharey=True)\n",
    "    if (title):\n",
    "        plt.suptitle(title)\n",
    "    if (yfield):\n",
    "        miny = np.inf\n",
    "        maxy = -np.inf\n",
    "        for log in logs:\n",
    "            if log[yfield].min() < miny:\n",
    "                miny = log[yfield].min()\n",
    "            if log[yfield].max() > maxy:\n",
    "                maxy = log[yfield].max()\n",
    "        ax[0].set_ylabel(yfield)\n",
    "    else:\n",
    "        miny = np.inf\n",
    "        maxy = -np.inf\n",
    "        for log in logs:\n",
    "            if log.index.min() < miny:\n",
    "                miny = log.index.min()\n",
    "            if log.index.max() > maxy:\n",
    "                maxy = log.index.max()\n",
    "        ax[0].set_ylabel('Depth')\n",
    "\n",
    "    for log_idx, log in enumerate(logs):\n",
    "        if yfield:\n",
    "            y_vals = log[yfield]\n",
    "        else:\n",
    "            y_vals = log.index.values\n",
    "        log_interp = scipy.interpolate.interp1d(y_vals, log[vfield], bounds_error=False)\n",
    "        fnew = np.linspace(miny, maxy, maxy - miny + 1)\n",
    "        ynew = log_interp(fnew)\n",
    "        ynew = ynew[:, np.newaxis]\n",
    "        vmin = np.nanpercentile(ynew,3)\n",
    "        vmax = np.nanpercentile(ynew,97)\n",
    "        ax[log_idx].set_xticks([])\n",
    "        ax[log_idx].set_yticks([])\n",
    "        ax[log_idx].grid(False)\n",
    "        ax[log_idx].imshow(ynew, aspect='auto', vmin=vmin, vmax=vmax)"
   ]
  },
  {
   "cell_type": "markdown",
   "metadata": {},
   "source": [
    "Since the original plot shows velocity, I will convert the slowness measurements to meters per second. Note that I am now back to using the `decimated_orig_logs` list, rather than the `decimated_logs` one. We scaled the values in the latter, and filled the missing data with random values (using the `prepare_logs` function). Now that we want to plot the data, we are going back to the original values."
   ]
  },
  {
   "cell_type": "code",
   "execution_count": 38,
   "metadata": {
    "collapsed": false
   },
   "outputs": [],
   "source": [
    "for log in decimated_orig_logs:\n",
    "    # Convert microseconds per foot to meters per second\n",
    "    log['VEL'] = 0.3048 / (log['DT'] * 1e-6)"
   ]
  },
  {
   "cell_type": "markdown",
   "metadata": {},
   "source": [
    "I need to copy the RGT values from `decimated_logs` (where `get_rgt` put them) into `decimated_orig_logs` (the one we want to plot)."
   ]
  },
  {
   "cell_type": "code",
   "execution_count": 39,
   "metadata": {
    "collapsed": false
   },
   "outputs": [],
   "source": [
    "for i, log in enumerate(decimated_orig_logs):\n",
    "    log['RGT'] = decimated_logs[i]['RGT']"
   ]
  },
  {
   "cell_type": "markdown",
   "metadata": {},
   "source": [
    "To see the effect of the method, I will plot the velocity with both depth and RGT on the y axis. If the method worked well, the logs should be better aligned in the second."
   ]
  },
  {
   "cell_type": "code",
   "execution_count": 40,
   "metadata": {
    "collapsed": false
   },
   "outputs": [
    {
     "name": "stderr",
     "output_type": "stream",
     "text": [
      "/home/nbuser/anaconda3_410/lib/python3.5/site-packages/ipykernel/__main__.py:32: DeprecationWarning: object of type <class 'numpy.float64'> cannot be safely interpreted as an integer.\n"
     ]
    },
    {
     "data": {
      "image/png": "[encoded data removed]",
      "text/plain": [
       "<matplotlib.figure.Figure at 0x7f8707e816a0>"
      ]
     },
     "metadata": {},
     "output_type": "display_data"
    },
    {
     "data": {
      "image/png": "[encoded data removed]",
      "text/plain": [
       "<matplotlib.figure.Figure at 0x7f86c26947b8>"
      ]
     },
     "metadata": {},
     "output_type": "display_data"
    }
   ],
   "source": [
    "plot_logs(decimated_orig_logs, 'VEL', title='Velocity vs Depth')\n",
    "plot_logs(decimated_orig_logs, 'VEL', yfield='RGT', title='Velocity vs RGT')"
   ]
  },
  {
   "cell_type": "markdown",
   "metadata": {},
   "source": [
    "Success!\n",
    "\n",
    "Although the results do not look very similar to those in the research report, the method still seems to have done a good job of aligning the logs. The most obvious change caused by the method is that the third log has been shifted to align it with the other logs. The end of the first log has also been stretched, and now seems to be a better match with the other logs. It seems that the sixth of these logs is actually the same as the first, so I suppose we can really only claim that we aligned five logs.\n",
    "\n",
    "The logs had other properties in addition to `DT`. They don't all have the same properties, but when dynamic warping is applied to a pair of logs, it uses all of the properties that they have in common to determine the optimal alignment. So the method was not just trying to align slowness, but all of these other properties as well, many of which are very noisy.\n",
    "\n",
    "## Applications\n",
    "\n",
    "The most obvious use for the method is to aid in the construction of a 3D stratigraphic model. It could also be used to estimate variations in compaction.\n",
    "\n",
    "Another application, and the one that inspired me to explore the method, is for machine learning. The [2016 SEG Machine Learning (ML) Contest](https://github.com/seg/2016-ml-contest/) asked entrants to predict facies from well logs. RGT looked like it should be quite a good predictor, so I used Wheeler and Hale's method (with my approximations) to create it as a feature for [my entry](https://github.com/seg/2016-ml-contest/blob/master/ar4/ar4_submission3.ipynb). I didn't win, but I don't think that was Wheeler and Hale's fault.\n",
    "\n",
    "## Conclusion\n",
    "\n",
    "The method worked well when I applied it to the Machine Learning contest dataset, but those logs were wonderfully well behaved. The Teapot Dome logs are shocking in comparison. For many of the log parameters, when I looked at the logs, I couldn't see any amount of shifting or stretching that would make the different logs look somewhat aligned. Yet, even for this noisy dataset, the method still seems to have done a pretty good job. I am also pleased with how easy it was to implement. A successful first attempt at *Reproducing Geophysics*.\n"
   ]
  }
 ],
 "metadata": {
  "anaconda-cloud": {},
  "kernelspec": {
   "display_name": "Python [Root]",
   "language": "python",
   "name": "Python [Root]"
  },
  "language_info": {
   "codemirror_mode": {
    "name": "ipython",
    "version": 3
   },
   "file_extension": ".py",
   "mimetype": "text/x-python",
   "name": "python",
   "nbconvert_exporter": "python",
   "pygments_lexer": "ipython3",
   "version": "3.5.2"
  }
 },
 "nbformat": 4,
 "nbformat_minor": 0
}
